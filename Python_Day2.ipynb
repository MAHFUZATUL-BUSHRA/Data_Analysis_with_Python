{
  "nbformat": 4,
  "nbformat_minor": 0,
  "metadata": {
    "colab": {
      "provenance": []
    },
    "kernelspec": {
      "name": "python3",
      "display_name": "Python 3"
    },
    "language_info": {
      "name": "python"
    }
  },
  "cells": [
    {
      "cell_type": "markdown",
      "source": [
        "Exploring Python"
      ],
      "metadata": {
        "id": "S9zW555b5HL3"
      }
    },
    {
      "cell_type": "code",
      "execution_count": 1,
      "metadata": {
        "colab": {
          "base_uri": "https://localhost:8080/"
        },
        "id": "Xo9qaVgP2DLK",
        "outputId": "4955020e-de98-4e91-d685-d64b7009660a"
      },
      "outputs": [
        {
          "output_type": "stream",
          "name": "stdout",
          "text": [
            "he said, \"sorry!\n"
          ]
        }
      ],
      "source": [
        "print('he said, \"sorry!')"
      ]
    },
    {
      "cell_type": "code",
      "source": [
        "print(\"he said, \\\"that's all right\\\"\")"
      ],
      "metadata": {
        "colab": {
          "base_uri": "https://localhost:8080/"
        },
        "id": "IO7XWD_65McR",
        "outputId": "eb10840d-0208-49f2-d420-de422c35974e"
      },
      "execution_count": 3,
      "outputs": [
        {
          "output_type": "stream",
          "name": "stdout",
          "text": [
            "he said, \"that's all right\"\n"
          ]
        }
      ]
    },
    {
      "cell_type": "code",
      "source": [
        "x=10\n",
        "y=20\n",
        "z=x+y\n",
        "print(x,'+',y,'=',z)\n",
        "\n",
        "type(x)"
      ],
      "metadata": {
        "colab": {
          "base_uri": "https://localhost:8080/"
        },
        "id": "shOFBkLz6dJx",
        "outputId": "56bfdb80-3ede-4541-9e61-be5afc1f7f04"
      },
      "execution_count": 12,
      "outputs": [
        {
          "output_type": "stream",
          "name": "stdout",
          "text": [
            "10 + 20 = 30\n"
          ]
        },
        {
          "output_type": "execute_result",
          "data": {
            "text/plain": [
              "int"
            ]
          },
          "metadata": {},
          "execution_count": 12
        }
      ]
    },
    {
      "cell_type": "code",
      "source": [
        "X=int(input('please inter a number: '))\n",
        "Y=int(input('please enter another number: '))\n",
        "z=X+Y\n",
        "print(\"THE SUM IS:\", z)\n"
      ],
      "metadata": {
        "colab": {
          "base_uri": "https://localhost:8080/"
        },
        "id": "DdOrdvvp8_Tz",
        "outputId": "ed5080b3-0e23-4a27-fba3-18058c7c690b"
      },
      "execution_count": 18,
      "outputs": [
        {
          "output_type": "stream",
          "name": "stdout",
          "text": [
            "please inter a number: 6\n",
            "please enter another number: 7\n",
            "THE SUM IS: 13\n"
          ]
        }
      ]
    },
    {
      "cell_type": "code",
      "source": [
        "#area of a circle:\n",
        "Radius=int(input('please enter a number: '))\n",
        "pi=3.142\n",
        "Area=pi*Radius*Radius\n",
        "print('Area of a circle:',Area)"
      ],
      "metadata": {
        "colab": {
          "base_uri": "https://localhost:8080/"
        },
        "id": "n9BIdXCM9seX",
        "outputId": "335218b4-eca3-44d2-89e5-91c67bba8a8a"
      },
      "execution_count": 20,
      "outputs": [
        {
          "output_type": "stream",
          "name": "stdout",
          "text": [
            "please inter a number: 56\n",
            "Area of a circle: 9853.312\n"
          ]
        }
      ]
    },
    {
      "cell_type": "code",
      "source": [
        "input1=int(input('please enter a number: '))\n",
        "input2=int(input('please enter a number: '))\n",
        "input3=int(input('please enter a number: '))\n",
        "result=input1*input1+input2*input2+input3*input3\n",
        "print(result)"
      ],
      "metadata": {
        "colab": {
          "base_uri": "https://localhost:8080/"
        },
        "id": "abH4Oj___prw",
        "outputId": "a1bb409b-1150-483a-a925-b1475dd2e1ed"
      },
      "execution_count": 23,
      "outputs": [
        {
          "output_type": "stream",
          "name": "stdout",
          "text": [
            "please inter a number: 2\n",
            "please inter a number: 2\n",
            "please inter a number: 2\n",
            "12\n"
          ]
        }
      ]
    },
    {
      "cell_type": "code",
      "source": [
        "π=3.1416\n",
        "r=int(input('please enter a number: '))\n",
        "h=int(input('please enter a number: '))\n",
        "volume=π*r*2*h\n",
        "print('volume is:',volume)"
      ],
      "metadata": {
        "colab": {
          "base_uri": "https://localhost:8080/"
        },
        "id": "XFcDXNJyAu8Y",
        "outputId": "ba082895-f6c6-47fb-ba7c-c6be82bc1081"
      },
      "execution_count": 24,
      "outputs": [
        {
          "output_type": "stream",
          "name": "stdout",
          "text": [
            "please enter a number: 2\n",
            "please enter a number: 5\n",
            "volume is: 62.832\n"
          ]
        }
      ]
    },
    {
      "cell_type": "code",
      "source": [
        "#Volume\n",
        "a=int(input('please enter value of a: '))\n",
        "V=a**3\n",
        "print('volume is:',V)"
      ],
      "metadata": {
        "colab": {
          "base_uri": "https://localhost:8080/"
        },
        "id": "efHTVDwcBYw_",
        "outputId": "416b87a4-ccd3-43d3-f362-2b02dba4418a"
      },
      "execution_count": 27,
      "outputs": [
        {
          "output_type": "stream",
          "name": "stdout",
          "text": [
            "please enter value of a: 6\n",
            "volume is: 216\n"
          ]
        }
      ]
    },
    {
      "cell_type": "code",
      "source": [
        "#diagonal of cube\n",
        "d=float(input('please enter diogonal of a cube: '))\n",
        "a=d/(3*0.5)\n",
        "v=a**3\n",
        "print(\"volume:\",v)"
      ],
      "metadata": {
        "colab": {
          "base_uri": "https://localhost:8080/"
        },
        "id": "bpGmrTOrDYyA",
        "outputId": "a8768f7b-e0eb-4e8c-fd88-918be2952866"
      },
      "execution_count": 29,
      "outputs": [
        {
          "output_type": "stream",
          "name": "stdout",
          "text": [
            "please enter diogonal of a cube: 6\n",
            "volume: 64.0\n"
          ]
        }
      ]
    },
    {
      "cell_type": "code",
      "source": [
        "#1,2,3,4,5 ......n= n(n+1)/2\n",
        "cow=int(input('please enter total number of cows: '))\n",
        "price=float(input('please enter a price of each bag: '))\n",
        "bag=cow*(cow+1)/2\n",
        "total_price=bag*price\n",
        "print(total_price)\n"
      ],
      "metadata": {
        "colab": {
          "base_uri": "https://localhost:8080/"
        },
        "id": "xI29xCsYBzm3",
        "outputId": "db0ba1d9-8559-4d40-ce49-f026d73730bc"
      },
      "execution_count": 26,
      "outputs": [
        {
          "output_type": "stream",
          "name": "stdout",
          "text": [
            "please enter total number of cows: 4\n",
            "please enter a price of each bag: 2\n",
            "20.0\n"
          ]
        }
      ]
    }
  ]
}